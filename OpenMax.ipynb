{
  "cells": [
    {
      "cell_type": "markdown",
      "id": "dd3faaea",
      "metadata": {
        "id": "dd3faaea"
      },
      "source": [
        "Open Set Recognition + Deep Networks\n",
        "\n",
        "unknown class가 존재하는 Open Set Recognition 상황에서, 입력 데이터가 unknown 클래스에 속하는지 판단하기."
      ]
    },
    {
      "cell_type": "markdown",
      "id": "0207a0a1",
      "metadata": {
        "id": "0207a0a1"
      },
      "source": [
        "## import Package"
      ]
    },
    {
      "cell_type": "code",
      "execution_count": null,
      "id": "279a9850",
      "metadata": {
        "id": "279a9850",
        "outputId": "62257673-fe34-4b3e-b792-fc73f8c5c3f6"
      },
      "outputs": [
        {
          "name": "stdout",
          "output_type": "stream",
          "text": [
            "cuda\n"
          ]
        }
      ],
      "source": [
        "import os\n",
        "import numpy as np\n",
        "import pandas as pd\n",
        "from statistics import mean\n",
        "\n",
        "import torch\n",
        "import torchvision\n",
        "\n",
        "from sklearn.metrics import accuracy_score, f1_score, precision_score, recall_score, confusion_matrix\n",
        "from scipy import stats\n",
        "\n",
        "from PIL import Image\n",
        "import matplotlib.pyplot as plt\n",
        "import seaborn as sns\n",
        "\n",
        "import warnings\n",
        "warnings.filterwarnings(\"ignore\")\n",
        "\n",
        "PROJECT_PATH = os.getenv('HOME') + '/aiffel/socar_open_set'\n",
        "MODEL_PATH = os.path.join(PROJECT_PATH, 'weights')\n",
        "DATA_PATH = os.path.join(PROJECT_PATH, 'data')\n",
        "TRAIN_PATH = os.path.join(DATA_PATH, 'train')\n",
        "TEST_PATH = os.path.join(DATA_PATH, 'test')\n",
        "REJECT_PATH = os.path.join(DATA_PATH, 'reject')\n",
        "\n",
        "device = torch.device(\"cuda\" if torch.cuda.is_available() else \"cpu\")\n",
        "print(device)"
      ]
    },
    {
      "cell_type": "markdown",
      "id": "24c6132d",
      "metadata": {
        "id": "24c6132d"
      },
      "source": [
        "## 데이터 전처리 파이프라인"
      ]
    },
    {
      "cell_type": "code",
      "execution_count": null,
      "id": "56926f01",
      "metadata": {
        "id": "56926f01"
      },
      "outputs": [],
      "source": [
        "def create_dataloader(path, batch_size, istrain):\n",
        "    nearest_mode = torchvision.transforms.InterpolationMode.NEAREST\n",
        "    normalize = torchvision.transforms.Normalize(\n",
        "            mean=[0.485, 0.456, 0.406],\n",
        "            std=[0.229, 0.224, 0.225]\n",
        "    )\n",
        "    train_transformer = torchvision.transforms.Compose([\n",
        "        torchvision.transforms.Resize((320,320), interpolation=nearest_mode),\n",
        "        torchvision.transforms.CenterCrop((224,224)),\n",
        "        torchvision.transforms.RandomHorizontalFlip(),\n",
        "        torchvision.transforms.RandomVerticalFlip(),\n",
        "        torchvision.transforms.ColorJitter(),\n",
        "        torchvision.transforms.ToTensor(),\n",
        "        normalize\n",
        "    ])\n",
        "\n",
        "    test_transformer = torchvision.transforms.Compose([\n",
        "        torchvision.transforms.Resize((320,320), interpolation=nearest_mode),\n",
        "        torchvision.transforms.CenterCrop((224,224)),\n",
        "        torchvision.transforms.ToTensor(),\n",
        "        normalize\n",
        "    ])\n",
        "\n",
        "    if istrain:\n",
        "        data = torchvision.datasets.ImageFolder(path, transform=train_transformer)\n",
        "        dataloader = torch.utils.data.DataLoader(data, batch_size=batch_size, shuffle=True)\n",
        "\n",
        "    else:\n",
        "        data = torchvision.datasets.ImageFolder(path, transform=test_transformer)\n",
        "        dataloader = torch.utils.data.DataLoader(data, shuffle=False)\n",
        "\n",
        "    return dataloader, data"
      ]
    },
    {
      "cell_type": "markdown",
      "id": "d4e819d6",
      "metadata": {
        "id": "d4e819d6"
      },
      "source": [
        "## 학습 데이터를 연결하고, 모델 불러오기\n",
        "- 모델은 pretrained 된 resnet50을 불러옴\n",
        "- 모델의 가중치는 클래스가 atower_b5, balsan_b5, balsan_b6, dcube_b6로 총 4개인 모델을 학습한 가중치"
      ]
    },
    {
      "cell_type": "code",
      "execution_count": null,
      "id": "5a5717f7",
      "metadata": {
        "id": "5a5717f7",
        "outputId": "43684319-054a-421c-b44b-ec65bac03969"
      },
      "outputs": [
        {
          "name": "stdout",
          "output_type": "stream",
          "text": [
            "Successfully Loaded the Network Weight!\n"
          ]
        },
        {
          "data": {
            "text/plain": [
              "ResNet(\n",
              "  (conv1): Conv2d(3, 64, kernel_size=(7, 7), stride=(2, 2), padding=(3, 3), bias=False)\n",
              "  (bn1): BatchNorm2d(64, eps=1e-05, momentum=0.1, affine=True, track_running_stats=True)\n",
              "  (relu): ReLU(inplace=True)\n",
              "  (maxpool): MaxPool2d(kernel_size=3, stride=2, padding=1, dilation=1, ceil_mode=False)\n",
              "  (layer1): Sequential(\n",
              "    (0): Bottleneck(\n",
              "      (conv1): Conv2d(64, 64, kernel_size=(1, 1), stride=(1, 1), bias=False)\n",
              "      (bn1): BatchNorm2d(64, eps=1e-05, momentum=0.1, affine=True, track_running_stats=True)\n",
              "      (conv2): Conv2d(64, 64, kernel_size=(3, 3), stride=(1, 1), padding=(1, 1), bias=False)\n",
              "      (bn2): BatchNorm2d(64, eps=1e-05, momentum=0.1, affine=True, track_running_stats=True)\n",
              "      (conv3): Conv2d(64, 256, kernel_size=(1, 1), stride=(1, 1), bias=False)\n",
              "      (bn3): BatchNorm2d(256, eps=1e-05, momentum=0.1, affine=True, track_running_stats=True)\n",
              "      (relu): ReLU(inplace=True)\n",
              "      (downsample): Sequential(\n",
              "        (0): Conv2d(64, 256, kernel_size=(1, 1), stride=(1, 1), bias=False)\n",
              "        (1): BatchNorm2d(256, eps=1e-05, momentum=0.1, affine=True, track_running_stats=True)\n",
              "      )\n",
              "    )\n",
              "    (1): Bottleneck(\n",
              "      (conv1): Conv2d(256, 64, kernel_size=(1, 1), stride=(1, 1), bias=False)\n",
              "      (bn1): BatchNorm2d(64, eps=1e-05, momentum=0.1, affine=True, track_running_stats=True)\n",
              "      (conv2): Conv2d(64, 64, kernel_size=(3, 3), stride=(1, 1), padding=(1, 1), bias=False)\n",
              "      (bn2): BatchNorm2d(64, eps=1e-05, momentum=0.1, affine=True, track_running_stats=True)\n",
              "      (conv3): Conv2d(64, 256, kernel_size=(1, 1), stride=(1, 1), bias=False)\n",
              "      (bn3): BatchNorm2d(256, eps=1e-05, momentum=0.1, affine=True, track_running_stats=True)\n",
              "      (relu): ReLU(inplace=True)\n",
              "    )\n",
              "    (2): Bottleneck(\n",
              "      (conv1): Conv2d(256, 64, kernel_size=(1, 1), stride=(1, 1), bias=False)\n",
              "      (bn1): BatchNorm2d(64, eps=1e-05, momentum=0.1, affine=True, track_running_stats=True)\n",
              "      (conv2): Conv2d(64, 64, kernel_size=(3, 3), stride=(1, 1), padding=(1, 1), bias=False)\n",
              "      (bn2): BatchNorm2d(64, eps=1e-05, momentum=0.1, affine=True, track_running_stats=True)\n",
              "      (conv3): Conv2d(64, 256, kernel_size=(1, 1), stride=(1, 1), bias=False)\n",
              "      (bn3): BatchNorm2d(256, eps=1e-05, momentum=0.1, affine=True, track_running_stats=True)\n",
              "      (relu): ReLU(inplace=True)\n",
              "    )\n",
              "  )\n",
              "  (layer2): Sequential(\n",
              "    (0): Bottleneck(\n",
              "      (conv1): Conv2d(256, 128, kernel_size=(1, 1), stride=(1, 1), bias=False)\n",
              "      (bn1): BatchNorm2d(128, eps=1e-05, momentum=0.1, affine=True, track_running_stats=True)\n",
              "      (conv2): Conv2d(128, 128, kernel_size=(3, 3), stride=(2, 2), padding=(1, 1), bias=False)\n",
              "      (bn2): BatchNorm2d(128, eps=1e-05, momentum=0.1, affine=True, track_running_stats=True)\n",
              "      (conv3): Conv2d(128, 512, kernel_size=(1, 1), stride=(1, 1), bias=False)\n",
              "      (bn3): BatchNorm2d(512, eps=1e-05, momentum=0.1, affine=True, track_running_stats=True)\n",
              "      (relu): ReLU(inplace=True)\n",
              "      (downsample): Sequential(\n",
              "        (0): Conv2d(256, 512, kernel_size=(1, 1), stride=(2, 2), bias=False)\n",
              "        (1): BatchNorm2d(512, eps=1e-05, momentum=0.1, affine=True, track_running_stats=True)\n",
              "      )\n",
              "    )\n",
              "    (1): Bottleneck(\n",
              "      (conv1): Conv2d(512, 128, kernel_size=(1, 1), stride=(1, 1), bias=False)\n",
              "      (bn1): BatchNorm2d(128, eps=1e-05, momentum=0.1, affine=True, track_running_stats=True)\n",
              "      (conv2): Conv2d(128, 128, kernel_size=(3, 3), stride=(1, 1), padding=(1, 1), bias=False)\n",
              "      (bn2): BatchNorm2d(128, eps=1e-05, momentum=0.1, affine=True, track_running_stats=True)\n",
              "      (conv3): Conv2d(128, 512, kernel_size=(1, 1), stride=(1, 1), bias=False)\n",
              "      (bn3): BatchNorm2d(512, eps=1e-05, momentum=0.1, affine=True, track_running_stats=True)\n",
              "      (relu): ReLU(inplace=True)\n",
              "    )\n",
              "    (2): Bottleneck(\n",
              "      (conv1): Conv2d(512, 128, kernel_size=(1, 1), stride=(1, 1), bias=False)\n",
              "      (bn1): BatchNorm2d(128, eps=1e-05, momentum=0.1, affine=True, track_running_stats=True)\n",
              "      (conv2): Conv2d(128, 128, kernel_size=(3, 3), stride=(1, 1), padding=(1, 1), bias=False)\n",
              "      (bn2): BatchNorm2d(128, eps=1e-05, momentum=0.1, affine=True, track_running_stats=True)\n",
              "      (conv3): Conv2d(128, 512, kernel_size=(1, 1), stride=(1, 1), bias=False)\n",
              "      (bn3): BatchNorm2d(512, eps=1e-05, momentum=0.1, affine=True, track_running_stats=True)\n",
              "      (relu): ReLU(inplace=True)\n",
              "    )\n",
              "    (3): Bottleneck(\n",
              "      (conv1): Conv2d(512, 128, kernel_size=(1, 1), stride=(1, 1), bias=False)\n",
              "      (bn1): BatchNorm2d(128, eps=1e-05, momentum=0.1, affine=True, track_running_stats=True)\n",
              "      (conv2): Conv2d(128, 128, kernel_size=(3, 3), stride=(1, 1), padding=(1, 1), bias=False)\n",
              "      (bn2): BatchNorm2d(128, eps=1e-05, momentum=0.1, affine=True, track_running_stats=True)\n",
              "      (conv3): Conv2d(128, 512, kernel_size=(1, 1), stride=(1, 1), bias=False)\n",
              "      (bn3): BatchNorm2d(512, eps=1e-05, momentum=0.1, affine=True, track_running_stats=True)\n",
              "      (relu): ReLU(inplace=True)\n",
              "    )\n",
              "  )\n",
              "  (layer3): Sequential(\n",
              "    (0): Bottleneck(\n",
              "      (conv1): Conv2d(512, 256, kernel_size=(1, 1), stride=(1, 1), bias=False)\n",
              "      (bn1): BatchNorm2d(256, eps=1e-05, momentum=0.1, affine=True, track_running_stats=True)\n",
              "      (conv2): Conv2d(256, 256, kernel_size=(3, 3), stride=(2, 2), padding=(1, 1), bias=False)\n",
              "      (bn2): BatchNorm2d(256, eps=1e-05, momentum=0.1, affine=True, track_running_stats=True)\n",
              "      (conv3): Conv2d(256, 1024, kernel_size=(1, 1), stride=(1, 1), bias=False)\n",
              "      (bn3): BatchNorm2d(1024, eps=1e-05, momentum=0.1, affine=True, track_running_stats=True)\n",
              "      (relu): ReLU(inplace=True)\n",
              "      (downsample): Sequential(\n",
              "        (0): Conv2d(512, 1024, kernel_size=(1, 1), stride=(2, 2), bias=False)\n",
              "        (1): BatchNorm2d(1024, eps=1e-05, momentum=0.1, affine=True, track_running_stats=True)\n",
              "      )\n",
              "    )\n",
              "    (1): Bottleneck(\n",
              "      (conv1): Conv2d(1024, 256, kernel_size=(1, 1), stride=(1, 1), bias=False)\n",
              "      (bn1): BatchNorm2d(256, eps=1e-05, momentum=0.1, affine=True, track_running_stats=True)\n",
              "      (conv2): Conv2d(256, 256, kernel_size=(3, 3), stride=(1, 1), padding=(1, 1), bias=False)\n",
              "      (bn2): BatchNorm2d(256, eps=1e-05, momentum=0.1, affine=True, track_running_stats=True)\n",
              "      (conv3): Conv2d(256, 1024, kernel_size=(1, 1), stride=(1, 1), bias=False)\n",
              "      (bn3): BatchNorm2d(1024, eps=1e-05, momentum=0.1, affine=True, track_running_stats=True)\n",
              "      (relu): ReLU(inplace=True)\n",
              "    )\n",
              "    (2): Bottleneck(\n",
              "      (conv1): Conv2d(1024, 256, kernel_size=(1, 1), stride=(1, 1), bias=False)\n",
              "      (bn1): BatchNorm2d(256, eps=1e-05, momentum=0.1, affine=True, track_running_stats=True)\n",
              "      (conv2): Conv2d(256, 256, kernel_size=(3, 3), stride=(1, 1), padding=(1, 1), bias=False)\n",
              "      (bn2): BatchNorm2d(256, eps=1e-05, momentum=0.1, affine=True, track_running_stats=True)\n",
              "      (conv3): Conv2d(256, 1024, kernel_size=(1, 1), stride=(1, 1), bias=False)\n",
              "      (bn3): BatchNorm2d(1024, eps=1e-05, momentum=0.1, affine=True, track_running_stats=True)\n",
              "      (relu): ReLU(inplace=True)\n",
              "    )\n",
              "    (3): Bottleneck(\n",
              "      (conv1): Conv2d(1024, 256, kernel_size=(1, 1), stride=(1, 1), bias=False)\n",
              "      (bn1): BatchNorm2d(256, eps=1e-05, momentum=0.1, affine=True, track_running_stats=True)\n",
              "      (conv2): Conv2d(256, 256, kernel_size=(3, 3), stride=(1, 1), padding=(1, 1), bias=False)\n",
              "      (bn2): BatchNorm2d(256, eps=1e-05, momentum=0.1, affine=True, track_running_stats=True)\n",
              "      (conv3): Conv2d(256, 1024, kernel_size=(1, 1), stride=(1, 1), bias=False)\n",
              "      (bn3): BatchNorm2d(1024, eps=1e-05, momentum=0.1, affine=True, track_running_stats=True)\n",
              "      (relu): ReLU(inplace=True)\n",
              "    )\n",
              "    (4): Bottleneck(\n",
              "      (conv1): Conv2d(1024, 256, kernel_size=(1, 1), stride=(1, 1), bias=False)\n",
              "      (bn1): BatchNorm2d(256, eps=1e-05, momentum=0.1, affine=True, track_running_stats=True)\n",
              "      (conv2): Conv2d(256, 256, kernel_size=(3, 3), stride=(1, 1), padding=(1, 1), bias=False)\n",
              "      (bn2): BatchNorm2d(256, eps=1e-05, momentum=0.1, affine=True, track_running_stats=True)\n",
              "      (conv3): Conv2d(256, 1024, kernel_size=(1, 1), stride=(1, 1), bias=False)\n",
              "      (bn3): BatchNorm2d(1024, eps=1e-05, momentum=0.1, affine=True, track_running_stats=True)\n",
              "      (relu): ReLU(inplace=True)\n",
              "    )\n",
              "    (5): Bottleneck(\n",
              "      (conv1): Conv2d(1024, 256, kernel_size=(1, 1), stride=(1, 1), bias=False)\n",
              "      (bn1): BatchNorm2d(256, eps=1e-05, momentum=0.1, affine=True, track_running_stats=True)\n",
              "      (conv2): Conv2d(256, 256, kernel_size=(3, 3), stride=(1, 1), padding=(1, 1), bias=False)\n",
              "      (bn2): BatchNorm2d(256, eps=1e-05, momentum=0.1, affine=True, track_running_stats=True)\n",
              "      (conv3): Conv2d(256, 1024, kernel_size=(1, 1), stride=(1, 1), bias=False)\n",
              "      (bn3): BatchNorm2d(1024, eps=1e-05, momentum=0.1, affine=True, track_running_stats=True)\n",
              "      (relu): ReLU(inplace=True)\n",
              "    )\n",
              "  )\n",
              "  (layer4): Sequential(\n",
              "    (0): Bottleneck(\n",
              "      (conv1): Conv2d(1024, 512, kernel_size=(1, 1), stride=(1, 1), bias=False)\n",
              "      (bn1): BatchNorm2d(512, eps=1e-05, momentum=0.1, affine=True, track_running_stats=True)\n",
              "      (conv2): Conv2d(512, 512, kernel_size=(3, 3), stride=(2, 2), padding=(1, 1), bias=False)\n",
              "      (bn2): BatchNorm2d(512, eps=1e-05, momentum=0.1, affine=True, track_running_stats=True)\n",
              "      (conv3): Conv2d(512, 2048, kernel_size=(1, 1), stride=(1, 1), bias=False)\n",
              "      (bn3): BatchNorm2d(2048, eps=1e-05, momentum=0.1, affine=True, track_running_stats=True)\n",
              "      (relu): ReLU(inplace=True)\n",
              "      (downsample): Sequential(\n",
              "        (0): Conv2d(1024, 2048, kernel_size=(1, 1), stride=(2, 2), bias=False)\n",
              "        (1): BatchNorm2d(2048, eps=1e-05, momentum=0.1, affine=True, track_running_stats=True)\n",
              "      )\n",
              "    )\n",
              "    (1): Bottleneck(\n",
              "      (conv1): Conv2d(2048, 512, kernel_size=(1, 1), stride=(1, 1), bias=False)\n",
              "      (bn1): BatchNorm2d(512, eps=1e-05, momentum=0.1, affine=True, track_running_stats=True)\n",
              "      (conv2): Conv2d(512, 512, kernel_size=(3, 3), stride=(1, 1), padding=(1, 1), bias=False)\n",
              "      (bn2): BatchNorm2d(512, eps=1e-05, momentum=0.1, affine=True, track_running_stats=True)\n",
              "      (conv3): Conv2d(512, 2048, kernel_size=(1, 1), stride=(1, 1), bias=False)\n",
              "      (bn3): BatchNorm2d(2048, eps=1e-05, momentum=0.1, affine=True, track_running_stats=True)\n",
              "      (relu): ReLU(inplace=True)\n",
              "    )\n",
              "    (2): Bottleneck(\n",
              "      (conv1): Conv2d(2048, 512, kernel_size=(1, 1), stride=(1, 1), bias=False)\n",
              "      (bn1): BatchNorm2d(512, eps=1e-05, momentum=0.1, affine=True, track_running_stats=True)\n",
              "      (conv2): Conv2d(512, 512, kernel_size=(3, 3), stride=(1, 1), padding=(1, 1), bias=False)\n",
              "      (bn2): BatchNorm2d(512, eps=1e-05, momentum=0.1, affine=True, track_running_stats=True)\n",
              "      (conv3): Conv2d(512, 2048, kernel_size=(1, 1), stride=(1, 1), bias=False)\n",
              "      (bn3): BatchNorm2d(2048, eps=1e-05, momentum=0.1, affine=True, track_running_stats=True)\n",
              "      (relu): ReLU(inplace=True)\n",
              "    )\n",
              "  )\n",
              "  (avgpool): AdaptiveAvgPool2d(output_size=(1, 1))\n",
              "  (fc): Linear(in_features=2048, out_features=4, bias=True)\n",
              ")"
            ]
          },
          "execution_count": 3,
          "metadata": {},
          "output_type": "execute_result"
        }
      ],
      "source": [
        "train_loader, _train_data = create_dataloader(TRAIN_PATH, 1, False)\n",
        "target_class_num = len(os.listdir(TRAIN_PATH))\n",
        "\n",
        "net = torchvision.models.resnet50(pretrained=True)\n",
        "net.fc = torch.nn.Linear(\n",
        "    net.fc.in_features,\n",
        "    target_class_num\n",
        ")\n",
        "\n",
        "saved_weight_path = os.path.join(MODEL_PATH, 'classifier_acc_0.96008.pth')\n",
        "net.load_state_dict(torch.load(saved_weight_path, map_location=device))\n",
        "print('Successfully Loaded the Network Weight!')\n",
        "net.eval()\n",
        "\n",
        "net.to(device)"
      ]
    },
    {
      "cell_type": "markdown",
      "id": "20d4b5a1",
      "metadata": {
        "id": "20d4b5a1"
      },
      "source": [
        "## 모델에서 Activation Vector를 추출"
      ]
    },
    {
      "cell_type": "markdown",
      "id": "737f1b44",
      "metadata": {
        "id": "737f1b44"
      },
      "source": [
        "### 1. Activation Vector 추출\n",
        "- OpenMax에 필요한 데이터는 분류에 성공한 데이터의 Activation Vector\n",
        "- Activation Vector는 Softmax 층에 입력되는 값\n",
        "    - torch.softmax()의 입력이 되는 값에서 Activation Vector를 뽑아오면 됨"
      ]
    },
    {
      "cell_type": "code",
      "execution_count": null,
      "id": "757168ca",
      "metadata": {
        "id": "757168ca"
      },
      "outputs": [],
      "source": [
        "train_preds = list()\n",
        "train_actvecs = list()\n",
        "train_outputs_softmax = list()\n",
        "train_labels = list()\n",
        "\n",
        "with torch.no_grad():\n",
        "    for idx, (img, label) in enumerate(train_loader):\n",
        "        img = img.to(device)\n",
        "        label = label.to(device)\n",
        "\n",
        "        out = net(img)\n",
        "        out_actvec = out.cpu().detach().numpy()[0]\n",
        "        out_softmax = torch.softmax(out, 1).cpu().detach().numpy()[0]\n",
        "        out_pred = int(torch.argmax(out).cpu().detach().numpy())\n",
        "        out_label = int(label.cpu().detach().numpy())\n",
        "\n",
        "        train_actvecs.append(out_actvec) # component 1: softmax 전의 Activation Vector\n",
        "        train_preds.append(out_pred) # componenet 2: 각 데이터에 대한 예측값\n",
        "        train_outputs_softmax.append(out_softmax) # component 3: 각 데이터에 대한 softmax 확률\n",
        "        train_labels.append(out_label) # component 4: 각 데이터에 대한 Label (정답)\n",
        "\n",
        "train_actvecs = np.asarray(train_actvecs)\n",
        "train_preds = np.asarray(train_preds)\n",
        "train_outputs_softmax = np.asarray(train_outputs_softmax)\n",
        "train_labels = np.asarray(train_labels)"
      ]
    },
    {
      "cell_type": "code",
      "execution_count": null,
      "id": "4101049f",
      "metadata": {
        "id": "4101049f",
        "outputId": "7dec3de7-5864-40e2-8446-d46ebc010473"
      },
      "outputs": [
        {
          "data": {
            "text/plain": [
              "(5000, 4)"
            ]
          },
          "execution_count": 5,
          "metadata": {},
          "output_type": "execute_result"
        }
      ],
      "source": [
        "train_actvecs.shape"
      ]
    },
    {
      "cell_type": "markdown",
      "id": "88b1336a",
      "metadata": {
        "id": "88b1336a"
      },
      "source": [
        "- 5,000 개의 데이터에서 4개의 클래스를 구분하는 Activation Vector"
      ]
    },
    {
      "cell_type": "markdown",
      "id": "a274d73a",
      "metadata": {
        "id": "a274d73a"
      },
      "source": [
        "### 2. 정답에 해당하는 Activation Vector 추출\n",
        "- OpenMax에서는 모델에서 나온 Activation Vector를 모두 사용하지 않음\n",
        "- 모델이 정답을 맞힌 Activation Vector만 사용\n",
        "- 학습을 통해 얻은 prediction과 label이 동일했을 때의 Activation Vector만 추출함"
      ]
    },
    {
      "cell_type": "code",
      "execution_count": null,
      "id": "4a87710a",
      "metadata": {
        "id": "4a87710a",
        "outputId": "0ae1dfbd-3fd7-4a25-bd32-be1f26b194cb"
      },
      "outputs": [
        {
          "name": "stdout",
          "output_type": "stream",
          "text": [
            "Activation vector:  (4790, 4)\n",
            "Labels:  (4790,)\n"
          ]
        }
      ],
      "source": [
        "train_correct_actvecs = train_actvecs[train_labels==train_preds]\n",
        "train_correct_labels = train_labels[train_labels==train_preds]\n",
        "print('Activation vector: ', train_correct_actvecs.shape)\n",
        "print('Labels: ', train_correct_labels.shape)"
      ]
    },
    {
      "cell_type": "markdown",
      "id": "b77d5c81",
      "metadata": {
        "id": "b77d5c81"
      },
      "source": [
        "- 4,790 개의 데이터는 prediction과 label이 일치함\n",
        "- 4개의 클래스를 구분하므로 Activation Vector의 2번째 디멘젼은 4"
      ]
    },
    {
      "cell_type": "markdown",
      "id": "6e830aff",
      "metadata": {
        "id": "6e830aff"
      },
      "source": [
        "## Activation Vector를 베이불 분포에 적용\n",
        "1. Activation Vector를 클래스마다 나눠 담음\n",
        "2. 클래스별로 나눠진 Activation Vector별 평균으로부터 가장 먼 100개의 Vector를 이용해 베이불 분포의 모수를 추출\n",
        "3. 각 클래스당 베이불 분포의 모수들을 저장\n",
        "    - 베이불 분포의 모수는 shape, loc, scale로 3개이고, 클래스는 4개이므로 총 12개의 숫자가 나옴\n",
        "    - 아직 unknown 클래스는 만들어지지 않음 (아직 class는 5개가 아님)"
      ]
    },
    {
      "cell_type": "code",
      "execution_count": null,
      "id": "6260442b",
      "metadata": {
        "id": "6260442b",
        "outputId": "1950ee83-e4f4-44ab-c680-9587d82e20ca"
      },
      "outputs": [
        {
          "name": "stdout",
          "output_type": "stream",
          "text": [
            "class_idx:  0\n",
            "(1250, 4)\n",
            "class_idx:  1\n",
            "(1170, 4)\n",
            "class_idx:  2\n",
            "(1179, 4)\n",
            "class_idx:  3\n",
            "(1191, 4)\n"
          ]
        }
      ],
      "source": [
        "class_means = list()\n",
        "dist_to_means = list()\n",
        "mr_models = {}\n",
        "\n",
        "for class_idx in np.unique(train_labels):\n",
        "\n",
        "    print('class_idx: ', class_idx)\n",
        "    class_act_vec = train_correct_actvecs[train_correct_labels==class_idx]\n",
        "    print(class_act_vec.shape)\n",
        "\n",
        "    class_mean = class_act_vec.mean(axis=0)\n",
        "    class_means.append(class_mean)\n",
        "\n",
        "    dist_to_mean = np.square(class_act_vec - class_mean).sum(axis=1) # 각 activation vector의 거리를 계산\n",
        "    dist_to_mean_sorted = np.sort(dist_to_mean).astype(np.float64) # 거리를 기준으로 오름차순 정렬\n",
        "    dist_to_means.append(dist_to_mean_sorted)\n",
        "\n",
        "    shape, loc, scale = stats.weibull_max.fit(dist_to_mean[-100:]) # 거리가 가장 먼 100개를 사용하여 모수 추출\n",
        "\n",
        "    mr_models[str(class_idx)] = {\n",
        "        'shape':shape,\n",
        "        'loc':loc,\n",
        "        'scale':scale\n",
        "    }\n",
        "\n",
        "class_means = np.asarray(class_means)"
      ]
    },
    {
      "cell_type": "markdown",
      "id": "645d0309",
      "metadata": {
        "id": "645d0309"
      },
      "source": [
        "### 1. shape\n",
        "- 베이불 분포의 모양을 결정"
      ]
    },
    {
      "cell_type": "markdown",
      "id": "99c89ba1",
      "metadata": {
        "id": "99c89ba1"
      },
      "source": [
        "![image.png](attachment:image.png)"
      ]
    },
    {
      "cell_type": "markdown",
      "id": "19d37991",
      "metadata": {
        "id": "19d37991"
      },
      "source": [
        "### 2. loc\n",
        "- 분포의 가로축 평행 이동을 뜻함  "
      ]
    },
    {
      "cell_type": "markdown",
      "id": "2f6f5c32",
      "metadata": {
        "id": "2f6f5c32"
      },
      "source": [
        "### 3. scale\n",
        "- 분포가 얼마나 넓게 퍼져있는지를 뜻함"
      ]
    },
    {
      "cell_type": "markdown",
      "id": "77597ce3",
      "metadata": {
        "id": "77597ce3"
      },
      "source": [
        "![image.png](attachment:image.png)"
      ]
    },
    {
      "cell_type": "code",
      "execution_count": null,
      "id": "b1e1e0ba",
      "metadata": {
        "id": "b1e1e0ba"
      },
      "outputs": [],
      "source": []
    },
    {
      "cell_type": "code",
      "execution_count": null,
      "id": "c9f7fef2",
      "metadata": {
        "id": "c9f7fef2"
      },
      "outputs": [],
      "source": []
    },
    {
      "cell_type": "markdown",
      "id": "0112c308",
      "metadata": {
        "id": "0112c308"
      },
      "source": [
        "## 이미지 클래스별 확률 계산"
      ]
    },
    {
      "cell_type": "code",
      "execution_count": null,
      "id": "e7a06ea6",
      "metadata": {
        "id": "e7a06ea6"
      },
      "outputs": [],
      "source": [
        "def compute_openmax(actvec, class_means, mr_models):\n",
        "    dist_to_mean = np.square(actvec - class_means).sum(axis=1)\n",
        "\n",
        "    scores = list()\n",
        "    for class_idx in range(len(class_means)):\n",
        "        params = mr_models[str(class_idx)]\n",
        "        score = stats.weibull_max.cdf(\n",
        "            dist_to_mean[class_idx],\n",
        "            params['shape'],\n",
        "            params['loc'],\n",
        "            params['scale']\n",
        "        )\n",
        "        scores.append(score)\n",
        "    scores = np.asarray(scores)\n",
        "\n",
        "    weight_on_actvec = 1 - scores # 각 class별 가중치\n",
        "    rev_actvec = np.concatenate([\n",
        "        weight_on_actvec * actvec, # known class에 대한 가중치 곱\n",
        "        [((1-weight_on_actvec) * actvec).sum()] # unknown class에 새로운 계산식\n",
        "    ])\n",
        "\n",
        "    openmax_prob = np.exp(rev_actvec) / np.exp(rev_actvec).sum()\n",
        "    return openmax_prob"
      ]
    },
    {
      "cell_type": "markdown",
      "id": "36a91009",
      "metadata": {
        "id": "36a91009"
      },
      "source": [
        "## 테스트셋 로드"
      ]
    },
    {
      "cell_type": "code",
      "execution_count": null,
      "id": "17119b95",
      "metadata": {
        "id": "17119b95"
      },
      "outputs": [],
      "source": [
        "test_loader, _test_data = create_dataloader(TEST_PATH, 1, False)\n",
        "reject_loader, _reject_data = create_dataloader(REJECT_PATH, 1, False)\n",
        "target_class_num = len(os.listdir(TEST_PATH))"
      ]
    },
    {
      "cell_type": "markdown",
      "id": "681e9d04",
      "metadata": {
        "id": "681e9d04"
      },
      "source": [
        "## Inference 함수\n",
        "- threshold 값을 지정하여 계산한 최대 확률이 모두 다 낮은 경우라면 강제로 reject클래스로 분류해주는 방법\n",
        "- 단점 : threshold값을 하나하나 찾아봐야 함"
      ]
    },
    {
      "cell_type": "code",
      "execution_count": null,
      "id": "861ce340",
      "metadata": {
        "id": "861ce340"
      },
      "outputs": [],
      "source": [
        "def inference(actvec, threshold, target_class_num, class_means, mr_models):\n",
        "    openmax_prob = compute_openmax(actvec, class_means, mr_models)\n",
        "    openmax_softmax = np.exp(openmax_prob)/sum(np.exp(openmax_prob))\n",
        "\n",
        "    pred = np.argmax(openmax_softmax)\n",
        "    if np.max(openmax_softmax) < threshold:\n",
        "        pred = target_class_num\n",
        "    return pred"
      ]
    },
    {
      "cell_type": "markdown",
      "id": "399f0490",
      "metadata": {
        "id": "399f0490"
      },
      "source": [
        "## threshold 탐색"
      ]
    },
    {
      "cell_type": "code",
      "execution_count": null,
      "id": "5e16a31f",
      "metadata": {
        "id": "5e16a31f"
      },
      "outputs": [],
      "source": [
        "def inference_dataloader(net, data_loader, threshold, target_class_num, class_means, mr_models, is_reject=False):\n",
        "    result_preds = list()\n",
        "    result_labels = list()\n",
        "\n",
        "    with torch.no_grad():\n",
        "        for idx, (img, label) in enumerate(data_loader):\n",
        "            img = img.to(device)\n",
        "            label = label.to(device)\n",
        "\n",
        "            out = net(img)\n",
        "            out_actvec = out.cpu().detach().numpy()[0]\n",
        "            out_softmax = torch.softmax(out, 1).cpu().detach().numpy()[0]\n",
        "            out_label = int(label.cpu().detach().numpy())\n",
        "\n",
        "            pred = inference(out_actvec, threshold, target_class_num, class_means, mr_models)\n",
        "\n",
        "            result_preds.append(pred)\n",
        "            if is_reject:\n",
        "                result_labels.append(target_class_num)\n",
        "            else:\n",
        "                result_labels.append(out_label)\n",
        "\n",
        "    return result_preds, result_labels"
      ]
    },
    {
      "cell_type": "markdown",
      "id": "298c5f4e",
      "metadata": {
        "id": "298c5f4e"
      },
      "source": [
        "- 데이터셋\n",
        "    - 정위치에 주차된 이미지\n",
        "    - 오위치에 주차된 이미지\n",
        "    \n",
        "- 모델의 성능 평가\n",
        "    - 정위치에 주차된 이미지들을 알맞은 class로 추론했는지\n",
        "    - 오위치에 주차된 이미지들을 추론하지 않고 reject 했는지"
      ]
    },
    {
      "cell_type": "code",
      "execution_count": null,
      "id": "08b686e2",
      "metadata": {
        "id": "08b686e2"
      },
      "outputs": [],
      "source": [
        "history = []\n",
        "\n",
        "for i in np.arange(0.30, 0.40, 0.01):\n",
        "    test_preds, test_labels = inference_dataloader(net, test_loader, round(i, 2), target_class_num, class_means, mr_models)\n",
        "    reject_preds, reject_labels = inference_dataloader(net, reject_loader, round(i, 2), target_class_num, class_means, mr_models, is_reject=True)\n",
        "\n",
        "    history.append({'threshold' : round(i, 2),\n",
        "                    'Test Acc' : accuracy_score(test_labels, test_preds),\n",
        "                    'Reject Acc' : accuracy_score(reject_labels, reject_preds)})"
      ]
    },
    {
      "cell_type": "code",
      "execution_count": null,
      "id": "53f43e4a",
      "metadata": {
        "id": "53f43e4a",
        "outputId": "4d63d564-8239-41a0-a587-becae7d193cd"
      },
      "outputs": [
        {
          "data": {
            "text/html": [
              "<div>\n",
              "<style scoped>\n",
              "    .dataframe tbody tr th:only-of-type {\n",
              "        vertical-align: middle;\n",
              "    }\n",
              "\n",
              "    .dataframe tbody tr th {\n",
              "        vertical-align: top;\n",
              "    }\n",
              "\n",
              "    .dataframe thead th {\n",
              "        text-align: right;\n",
              "    }\n",
              "</style>\n",
              "<table border=\"1\" class=\"dataframe\">\n",
              "  <thead>\n",
              "    <tr style=\"text-align: right;\">\n",
              "      <th></th>\n",
              "      <th>threshold</th>\n",
              "      <th>Test Acc</th>\n",
              "      <th>Reject Acc</th>\n",
              "    </tr>\n",
              "  </thead>\n",
              "  <tbody>\n",
              "    <tr>\n",
              "      <th>10</th>\n",
              "      <td>0.40</td>\n",
              "      <td>0.561</td>\n",
              "      <td>0.963</td>\n",
              "    </tr>\n",
              "    <tr>\n",
              "      <th>9</th>\n",
              "      <td>0.39</td>\n",
              "      <td>0.699</td>\n",
              "      <td>0.948</td>\n",
              "    </tr>\n",
              "    <tr>\n",
              "      <th>8</th>\n",
              "      <td>0.38</td>\n",
              "      <td>0.776</td>\n",
              "      <td>0.939</td>\n",
              "    </tr>\n",
              "    <tr>\n",
              "      <th>7</th>\n",
              "      <td>0.37</td>\n",
              "      <td>0.812</td>\n",
              "      <td>0.932</td>\n",
              "    </tr>\n",
              "    <tr>\n",
              "      <th>6</th>\n",
              "      <td>0.36</td>\n",
              "      <td>0.837</td>\n",
              "      <td>0.927</td>\n",
              "    </tr>\n",
              "    <tr>\n",
              "      <th>5</th>\n",
              "      <td>0.35</td>\n",
              "      <td>0.851</td>\n",
              "      <td>0.920</td>\n",
              "    </tr>\n",
              "    <tr>\n",
              "      <th>4</th>\n",
              "      <td>0.34</td>\n",
              "      <td>0.854</td>\n",
              "      <td>0.869</td>\n",
              "    </tr>\n",
              "    <tr>\n",
              "      <th>3</th>\n",
              "      <td>0.33</td>\n",
              "      <td>0.861</td>\n",
              "      <td>0.828</td>\n",
              "    </tr>\n",
              "    <tr>\n",
              "      <th>2</th>\n",
              "      <td>0.32</td>\n",
              "      <td>0.869</td>\n",
              "      <td>0.800</td>\n",
              "    </tr>\n",
              "    <tr>\n",
              "      <th>1</th>\n",
              "      <td>0.31</td>\n",
              "      <td>0.873</td>\n",
              "      <td>0.758</td>\n",
              "    </tr>\n",
              "    <tr>\n",
              "      <th>0</th>\n",
              "      <td>0.30</td>\n",
              "      <td>0.877</td>\n",
              "      <td>0.735</td>\n",
              "    </tr>\n",
              "  </tbody>\n",
              "</table>\n",
              "</div>"
            ],
            "text/plain": [
              "    threshold  Test Acc  Reject Acc\n",
              "10       0.40     0.561       0.963\n",
              "9        0.39     0.699       0.948\n",
              "8        0.38     0.776       0.939\n",
              "7        0.37     0.812       0.932\n",
              "6        0.36     0.837       0.927\n",
              "5        0.35     0.851       0.920\n",
              "4        0.34     0.854       0.869\n",
              "3        0.33     0.861       0.828\n",
              "2        0.32     0.869       0.800\n",
              "1        0.31     0.873       0.758\n",
              "0        0.30     0.877       0.735"
            ]
          },
          "execution_count": 13,
          "metadata": {},
          "output_type": "execute_result"
        }
      ],
      "source": [
        "pd.DataFrame(history).sort_values(by='Reject Acc', ascending=False)"
      ]
    },
    {
      "cell_type": "markdown",
      "id": "a8d26bc7",
      "metadata": {
        "id": "a8d26bc7"
      },
      "source": [
        "- Threshold가 떨어질수록 Test Accuracy는 올라감\n",
        "- Threshold가 떨어질수록 Reject Accuracy도 떨어짐\n",
        "\n",
        "\n",
        "- 기준점 : Test Acc 0.85 이상\n",
        "    - **Threshold 0.35일 때, Test Acc 0.85 이상 Reject Acc 0.90이 나옴**"
      ]
    },
    {
      "cell_type": "markdown",
      "id": "90eb14c6",
      "metadata": {
        "id": "90eb14c6"
      },
      "source": [
        "## 회고\n",
        "\n",
        "### 1. 새로 알아갔던 점\n",
        " - OpenMax에 대해 알아감 (주어진 class가 아니어도 분류할 수 있다는 점)\n",
        "\n",
        "### 2. 흥미로웠던 점\n",
        " - OpenMax가 어떤 과정으로 결과물을 산출하는지 하나하나씩 알아보는게 흥미로웠음\n",
        "\n",
        "### 3. 아쉬웠던 점\n",
        " - 프로젝트를 앞두고 있어서 과제를 급하게 한 느낌이 들었음\n",
        "\n",
        "### 4. 앞으로의 다짐\n",
        " - 마지막 과제 제출이 끝나서 앞으로 프로젝트를 통해 지금까지 익힌 지식을 잘 풀어내야겠다는 생각을 함"
      ]
    }
  ],
  "metadata": {
    "kernelspec": {
      "display_name": "Python 3",
      "language": "python",
      "name": "python3"
    },
    "language_info": {
      "codemirror_mode": {
        "name": "ipython",
        "version": 3
      },
      "file_extension": ".py",
      "mimetype": "text/x-python",
      "name": "python",
      "nbconvert_exporter": "python",
      "pygments_lexer": "ipython3",
      "version": "3.8.8"
    },
    "colab": {
      "provenance": []
    }
  },
  "nbformat": 4,
  "nbformat_minor": 5
}